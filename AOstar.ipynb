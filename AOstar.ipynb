{
  "nbformat": 4,
  "nbformat_minor": 0,
  "metadata": {
    "colab": {
      "provenance": [],
      "authorship_tag": "ABX9TyPfcZT8uJgWZhf3cORN0oqg",
      "include_colab_link": true
    },
    "kernelspec": {
      "name": "python3",
      "display_name": "Python 3"
    },
    "language_info": {
      "name": "python"
    }
  },
  "cells": [
    {
      "cell_type": "markdown",
      "metadata": {
        "id": "view-in-github",
        "colab_type": "text"
      },
      "source": [
        "<a href=\"https://colab.research.google.com/github/BhatAnkush/Ml/blob/main/AOstar.ipynb\" target=\"_parent\"><img src=\"https://colab.research.google.com/assets/colab-badge.svg\" alt=\"Open In Colab\"/></a>"
      ]
    },
    {
      "cell_type": "code",
      "execution_count": 1,
      "metadata": {
        "id": "UAjSyCjBxzmO"
      },
      "outputs": [],
      "source": [
        "def recAOStar(n):\n",
        "    global finalPath\n",
        "    print(\"Expanding Node :\", n)\n",
        "    and_nodes = []\n",
        "    or_nodes = []\n",
        "    if (n in allNodes):\n",
        "        if 'AND' in allNodes[n]:\n",
        "            and_nodes = allNodes[n]['AND']\n",
        "        if 'OR' in allNodes[n]:\n",
        "            or_nodes = allNodes[n]['OR']\n",
        "    if len(and_nodes) == 0 and len(or_nodes) == 0:\n",
        "        return\n",
        "\n",
        "    solvable = False\n",
        "    marked = {}\n",
        "    while not solvable:\n",
        "      if len(marked) == len(and_nodes) + len(or_nodes):\n",
        "        min_cost_least, min_cost_group_least = least_cost_group(and_nodes, or_nodes, {})\n",
        "        solvable = True\n",
        "        change_heuristic(n, min_cost_least)\n",
        "        optimal_child_group[n] = min_cost_group_least\n",
        "        continue\n",
        "\n",
        "      min_cost, min_cost_group = least_cost_group(and_nodes, or_nodes, marked)\n",
        "      is_expanded = False\n",
        "      if len(min_cost_group) > 1:\n",
        "          if (min_cost_group[0] in allNodes):\n",
        "            is_expanded = True\n",
        "            recAOStar(min_cost_group[0])\n",
        "          if (min_cost_group[1] in allNodes):\n",
        "            is_expanded = True\n",
        "            recAOStar(min_cost_group[1])\n",
        "      else:\n",
        "        if (min_cost_group in allNodes):\n",
        "          is_expanded = True\n",
        "          recAOStar(min_cost_group)\n",
        "      if is_expanded:\n",
        "        min_cost_verify, min_cost_group_verify = least_cost_group(and_nodes, or_nodes, {})\n",
        "        if min_cost_group == min_cost_group_verify:\n",
        "          solvable = True\n",
        "          change_heuristic(n, min_cost_verify)\n",
        "          optimal_child_group[n] = min_cost_group\n",
        "      else:\n",
        "        solvable = True\n",
        "        change_heuristic(n, min_cost)\n",
        "        optimal_child_group[n] = min_cost_group\n",
        "\n",
        "      marked[min_cost_group] = 1\n",
        "    return heuristic(n)"
      ]
    },
    {
      "cell_type": "code",
      "source": [
        "def least_cost_group(and_nodes, or_nodes, marked):\n",
        "  node_wise_cost = {}\n",
        "  for node_pair in and_nodes:\n",
        "    if not node_pair[0] + node_pair[1] in marked:\n",
        "      cost = 0\n",
        "      cost = cost + heuristic(node_pair[0]) + heuristic(node_pair[1]) + 2\n",
        "      node_wise_cost[node_pair[0] + node_pair[1]] = cost\n",
        "  for node in or_nodes:\n",
        "    if not node in marked:\n",
        "      cost = 0\n",
        "      cost = cost + heuristic(node) + 1\n",
        "      node_wise_cost[node] = cost\n",
        "  min_cost = 999999\n",
        "  min_cost_group = None\n",
        "  for costKey in node_wise_cost:\n",
        "    if node_wise_cost[costKey] < min_cost:\n",
        "      min_cost = node_wise_cost[costKey]\n",
        "      min_cost_group = costKey\n",
        "  return [min_cost, min_cost_group]"
      ],
      "metadata": {
        "id": "D3hsrbARzFRd"
      },
      "execution_count": 2,
      "outputs": []
    },
    {
      "cell_type": "code",
      "source": [
        "def heuristic(n):\n",
        "  return H_dist[n]\n",
        "def change_heuristic(n, cost):\n",
        "  H_dist[n] = cost\n",
        "  return"
      ],
      "metadata": {
        "id": "nnGgLsVdzu8e"
      },
      "execution_count": 3,
      "outputs": []
    },
    {
      "cell_type": "code",
      "source": [
        "def print_path(node):\n",
        "  print(optimal_child_group[node], end=\"\")\n",
        "  node = optimal_child_group[node]\n",
        "  if len(node) > 1:\n",
        "    if node[0] in optimal_child_group:\n",
        "      print(\"->\", end=\"\")\n",
        "      print_path(node[0])\n",
        "    if node[1] in optimal_child_group:\n",
        "      print(\"->\", end=\"\")\n",
        "      print_path(node[1])\n",
        "  else:\n",
        "    if node in optimal_child_group:\n",
        "      print(\"->\", end=\"\")\n",
        "      print_path(node)\n"
      ],
      "metadata": {
        "id": "wN7ePICtz6ke"
      },
      "execution_count": 4,
      "outputs": []
    },
    {
      "cell_type": "code",
      "source": [
        "H_dist = {\n",
        "      'A': -1,\n",
        "      'B': 4,\n",
        "      'C': 2,\n",
        "      'D': 3,\n",
        "      'E': 6,\n",
        "      'F': 8,\n",
        "      'G': 2,\n",
        "      'H': 0,\n",
        "      'I': 0,\n",
        "      'J': 0\n",
        "}\n"
      ],
      "metadata": {
        "id": "IeZ6-mO90Qa3"
      },
      "execution_count": 5,
      "outputs": []
    },
    {
      "cell_type": "code",
      "source": [
        "allNodes = {\n",
        "    'A': {'AND': [('C', 'D')], 'OR': ['B']},\n",
        "    'B': {'OR': ['E', 'F']},\n",
        "    'C': {'AND': [('H', 'I')], 'OR': ['G']},\n",
        "    'D': {'OR': ['J']}\n",
        "}"
      ],
      "metadata": {
        "id": "pUB0K1ic0gEv"
      },
      "execution_count": 7,
      "outputs": []
    },
    {
      "cell_type": "code",
      "source": [
        "optimal_child_group = {}\n",
        "optimal_cost = recAOStar('A')\n",
        "\n",
        "print('Nodes Which Gives Optimal Cost Are')\n",
        "print_path('A')\n",
        "print('\\nOptimal Cost Is :', optimal_cost)"
      ],
      "metadata": {
        "colab": {
          "base_uri": "https://localhost:8080/"
        },
        "id": "VvpA2cWT0jmA",
        "outputId": "907dd774-0c51-44ae-80b2-bbed0274e62d"
      },
      "execution_count": 8,
      "outputs": [
        {
          "output_type": "stream",
          "name": "stdout",
          "text": [
            "Expanding Node : A\n",
            "Expanding Node : B\n",
            "Expanding Node : C\n",
            "Expanding Node : D\n",
            "Nodes Which Gives Optimal Cost Are\n",
            "CD->HI->J\n",
            "Optimal Cost Is : 5\n"
          ]
        }
      ]
    },
    {
      "cell_type": "code",
      "source": [],
      "metadata": {
        "id": "6O0avxC70q4Q"
      },
      "execution_count": null,
      "outputs": []
    }
  ]
}