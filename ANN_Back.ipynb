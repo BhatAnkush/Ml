{
  "nbformat": 4,
  "nbformat_minor": 0,
  "metadata": {
    "colab": {
      "provenance": [],
      "authorship_tag": "ABX9TyNhP+xM3nj0jNgfE0Rl0pDq",
      "include_colab_link": true
    },
    "kernelspec": {
      "name": "python3",
      "display_name": "Python 3"
    },
    "language_info": {
      "name": "python"
    }
  },
  "cells": [
    {
      "cell_type": "markdown",
      "metadata": {
        "id": "view-in-github",
        "colab_type": "text"
      },
      "source": [
        "<a href=\"https://colab.research.google.com/github/BhatAnkush/Ml/blob/main/ANN_Back.ipynb\" target=\"_parent\"><img src=\"https://colab.research.google.com/assets/colab-badge.svg\" alt=\"Open In Colab\"/></a>"
      ]
    },
    {
      "cell_type": "code",
      "execution_count": 1,
      "metadata": {
        "colab": {
          "base_uri": "https://localhost:8080/"
        },
        "id": "ortr4h1q879t",
        "outputId": "3919ef5b-43dd-4c2e-b70c-06edb5b00bf7"
      },
      "outputs": [
        {
          "output_type": "stream",
          "name": "stdout",
          "text": [
            "Input: \n",
            "[[0.66666667 1.        ]\n",
            " [0.33333333 0.55555556]\n",
            " [1.         0.66666667]]\n",
            "Actual Output: \n",
            "[[0.92]\n",
            " [0.86]\n",
            " [0.89]]\n",
            "Predicted Output: \n",
            " [[0.89445976]\n",
            " [0.88003637]\n",
            " [0.89547087]]\n"
          ]
        }
      ],
      "source": [
        "import numpy as np\n",
        "X = np.array(([2, 9], [1, 5], [3, 6]), dtype=float)\n",
        "y = np.array(([92], [86], [89]), dtype=float)\n",
        "X = X / np.amax(X, axis=0)\n",
        "y = y / 100\n",
        "\n",
        "def sigmoid(x):\n",
        "    return 1 / (1 + np.exp(-x))\n",
        "\n",
        "def derivatives_sigmoid(x):\n",
        "    return x * (1 - x)\n",
        "\n",
        "epoch = 1000\n",
        "learning_rate = 0.6\n",
        "inputlayer_neurons = 2\n",
        "hiddenlayer_neurons = 3\n",
        "output_neurons = 1\n",
        "\n",
        "wh = np.random.uniform(size = (inputlayer_neurons,hiddenlayer_neurons))\n",
        "bh = np.random.uniform(size = (1, hiddenlayer_neurons))\n",
        "wo = np.random.uniform(size = (hiddenlayer_neurons, output_neurons))\n",
        "bo = np.random.uniform(size = (1, output_neurons))\n",
        "\n",
        "for i in range(epoch):\n",
        "    net_h = np.dot(X, wh) + bh\n",
        "    sigma_h = sigmoid(net_h)\n",
        "    net_o = np.dot(sigma_h, wo) + bo\n",
        "    output = sigmoid(net_o)\n",
        "\n",
        "    deltaK = (y - output) * derivatives_sigmoid(output)\n",
        "    deltaH = deltaK.dot(wo.T) * derivatives_sigmoid(sigma_h)\n",
        "    wo = wo + sigma_h.T.dot(deltaK) * learning_rate\n",
        "    wh = wh + X.T.dot(deltaH) * learning_rate\n",
        "\n",
        "print (\"Input: \\n\" + str(X))\n",
        "print (\"Actual Output: \\n\" + str(y))\n",
        "print (\"Predicted Output: \\n\", output)"
      ]
    }
  ]
}