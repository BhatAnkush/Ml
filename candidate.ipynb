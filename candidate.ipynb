{
  "nbformat": 4,
  "nbformat_minor": 0,
  "metadata": {
    "colab": {
      "provenance": [],
      "authorship_tag": "ABX9TyPa/Bmv4XnwtlNsoFyNLzaS",
      "include_colab_link": true
    },
    "kernelspec": {
      "name": "python3",
      "display_name": "Python 3"
    },
    "language_info": {
      "name": "python"
    }
  },
  "cells": [
    {
      "cell_type": "markdown",
      "metadata": {
        "id": "view-in-github",
        "colab_type": "text"
      },
      "source": [
        "<a href=\"https://colab.research.google.com/github/BhatAnkush/Ml/blob/main/candidate.ipynb\" target=\"_parent\"><img src=\"https://colab.research.google.com/assets/colab-badge.svg\" alt=\"Open In Colab\"/></a>"
      ]
    },
    {
      "cell_type": "code",
      "execution_count": 6,
      "metadata": {
        "colab": {
          "base_uri": "https://localhost:8080/"
        },
        "id": "B17I4aZ008rh",
        "outputId": "bf46690f-4601-46cd-ba07-3257041bda4c"
      },
      "outputs": [
        {
          "output_type": "stream",
          "name": "stdout",
          "text": [
            "[[nan nan nan nan nan nan]\n",
            " ['sunny' 'warm' 'normal' 'strong' 'warm' 'same']\n",
            " [nan nan nan nan nan nan]\n",
            " ['sunny' 'warm' 'high' 'strong' 'warm' 'same']\n",
            " [nan nan nan nan nan nan]\n",
            " ['rainy' 'cold' 'high' 'strong' 'warm' 'change']\n",
            " [nan nan nan nan nan nan]\n",
            " ['sunny' 'warm' 'high' 'strong' 'cool' 'change']]\n",
            "[nan 'yes' nan 'yes' nan 'no' nan 'yes']\n",
            "initialization of specific_h and general_h\n",
            "[nan nan nan nan nan nan]\n",
            "[['?', '?', '?', '?', '?', '?'], ['?', '?', '?', '?', '?', '?'], ['?', '?', '?', '?', '?', '?'], ['?', '?', '?', '?', '?', '?'], ['?', '?', '?', '?', '?', '?'], ['?', '?', '?', '?', '?', '?']]\n",
            "[nan nan nan nan nan nan]\n",
            " steps of Candidate Elimination Algorithm 1\n",
            "[nan nan nan nan nan nan]\n",
            "[['?', '?', '?', '?', '?', '?'], ['?', '?', '?', '?', '?', '?'], ['?', '?', '?', '?', '?', '?'], ['?', '?', '?', '?', '?', '?'], ['?', '?', '?', '?', '?', '?'], ['?', '?', '?', '?', '?', '?']]\n",
            "['?' nan nan nan nan nan]\n",
            "['?' '?' nan nan nan nan]\n",
            "['?' '?' '?' nan nan nan]\n",
            "['?' '?' '?' '?' nan nan]\n",
            "['?' '?' '?' '?' '?' nan]\n",
            "['?' '?' '?' '?' '?' '?']\n",
            "['?' '?' '?' '?' '?' '?']\n",
            " steps of Candidate Elimination Algorithm 2\n",
            "['?' '?' '?' '?' '?' '?']\n",
            "[['?', '?', '?', '?', '?', '?'], ['?', '?', '?', '?', '?', '?'], ['?', '?', '?', '?', '?', '?'], ['?', '?', '?', '?', '?', '?'], ['?', '?', '?', '?', '?', '?'], ['?', '?', '?', '?', '?', '?']]\n",
            "['?' '?' '?' '?' '?' '?']\n",
            " steps of Candidate Elimination Algorithm 3\n",
            "['?' '?' '?' '?' '?' '?']\n",
            "[['?', '?', '?', '?', '?', '?'], ['?', '?', '?', '?', '?', '?'], ['?', '?', '?', '?', '?', '?'], ['?', '?', '?', '?', '?', '?'], ['?', '?', '?', '?', '?', '?'], ['?', '?', '?', '?', '?', '?']]\n",
            "['?' '?' '?' '?' '?' '?']\n",
            "['?' '?' '?' '?' '?' '?']\n",
            "['?' '?' '?' '?' '?' '?']\n",
            "['?' '?' '?' '?' '?' '?']\n",
            "['?' '?' '?' '?' '?' '?']\n",
            "['?' '?' '?' '?' '?' '?']\n",
            "['?' '?' '?' '?' '?' '?']\n",
            " steps of Candidate Elimination Algorithm 4\n",
            "['?' '?' '?' '?' '?' '?']\n",
            "[['?', '?', '?', '?', '?', '?'], ['?', '?', '?', '?', '?', '?'], ['?', '?', '?', '?', '?', '?'], ['?', '?', '?', '?', '?', '?'], ['?', '?', '?', '?', '?', '?'], ['?', '?', '?', '?', '?', '?']]\n",
            "['?' '?' '?' '?' '?' '?']\n",
            " steps of Candidate Elimination Algorithm 5\n",
            "['?' '?' '?' '?' '?' '?']\n",
            "[['?', '?', '?', '?', '?', '?'], ['?', '?', '?', '?', '?', '?'], ['?', '?', '?', '?', '?', '?'], ['?', '?', '?', '?', '?', '?'], ['?', '?', '?', '?', '?', '?'], ['?', '?', '?', '?', '?', '?']]\n",
            "['?' '?' '?' '?' '?' '?']\n",
            " steps of Candidate Elimination Algorithm 6\n",
            "['?' '?' '?' '?' '?' '?']\n",
            "[['?', '?', '?', '?', '?', '?'], ['?', '?', '?', '?', '?', '?'], ['?', '?', '?', '?', '?', '?'], ['?', '?', '?', '?', '?', '?'], ['?', '?', '?', '?', '?', '?'], ['?', '?', '?', '?', '?', '?']]\n",
            "['?' '?' '?' '?' '?' '?']\n",
            " steps of Candidate Elimination Algorithm 7\n",
            "['?' '?' '?' '?' '?' '?']\n",
            "[['?', '?', '?', '?', '?', '?'], ['?', '?', '?', '?', '?', '?'], ['?', '?', '?', '?', '?', '?'], ['?', '?', '?', '?', '?', '?'], ['?', '?', '?', '?', '?', '?'], ['?', '?', '?', '?', '?', '?']]\n",
            "['?' '?' '?' '?' '?' '?']\n",
            "['?' '?' '?' '?' '?' '?']\n",
            "['?' '?' '?' '?' '?' '?']\n",
            "['?' '?' '?' '?' '?' '?']\n",
            "['?' '?' '?' '?' '?' '?']\n",
            "['?' '?' '?' '?' '?' '?']\n",
            "['?' '?' '?' '?' '?' '?']\n",
            " steps of Candidate Elimination Algorithm 8\n",
            "['?' '?' '?' '?' '?' '?']\n",
            "[['?', '?', '?', '?', '?', '?'], ['?', '?', '?', '?', '?', '?'], ['?', '?', '?', '?', '?', '?'], ['?', '?', '?', '?', '?', '?'], ['?', '?', '?', '?', '?', '?'], ['?', '?', '?', '?', '?', '?']]\n",
            "Final Specific_h:\n",
            "['?' '?' '?' '?' '?' '?']\n",
            "Final General_h:\n",
            "[]\n"
          ]
        }
      ],
      "source": [
        "import numpy as np\n",
        "import pandas as pd\n",
        "data = pd.DataFrame(data=pd.read_csv('enjoysport.csv'))\n",
        "concepts = np.array(data.iloc[:,0:-1])\n",
        "print(concepts)\n",
        "target = np.array(data.iloc[:,-1])\n",
        "print(target)\n",
        "def learn(concepts, target):\n",
        "    specific_h = concepts[0].copy()\n",
        "    print(\"initialization of specific_h and general_h\")\n",
        "    print(specific_h)\n",
        "    general_h = [[\"?\" for i in range(len(specific_h))] for i in range(len(specific_h))]\n",
        "    print(general_h)\n",
        "    for i, h in enumerate(concepts):\n",
        "        if target[i] == \"yes\":\n",
        "            for x in range(len(specific_h)):\n",
        "                if h[x]!= specific_h[x]:\n",
        "                    specific_h[x] ='?'\n",
        "                    general_h[x][x] ='?'\n",
        "                print(specific_h)\n",
        "        print(specific_h)\n",
        "        if target[i] == \"no\":\n",
        "            for x in range(len(specific_h)):\n",
        "                if h[x]!= specific_h[x]:\n",
        "                    general_h[x][x] = specific_h[x]\n",
        "                else:\n",
        "                    general_h[x][x] = '?'\n",
        "        print(\" steps of Candidate Elimination Algorithm\",i+1)\n",
        "        print(specific_h)\n",
        "        print(general_h)\n",
        "    indices = [i for i, val in enumerate(general_h) if val == ['?', '?', '?', '?', '?', '?']]\n",
        "    for i in indices:\n",
        "        general_h.remove(['?', '?', '?', '?', '?', '?'])\n",
        "\n",
        "    return specific_h, general_h\n",
        "\n",
        "s_final, g_final = learn(concepts, target)\n",
        "print(\"Final Specific_h:\", s_final, sep=\"\\n\")\n",
        "print(\"Final General_h:\", g_final, sep=\"\\n\")\n"
      ]
    },
    {
      "cell_type": "code",
      "source": [],
      "metadata": {
        "id": "-Gs5bBWC2JJq"
      },
      "execution_count": null,
      "outputs": []
    }
  ]
}