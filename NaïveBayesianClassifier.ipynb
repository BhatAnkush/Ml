{
  "nbformat": 4,
  "nbformat_minor": 0,
  "metadata": {
    "colab": {
      "provenance": [],
      "authorship_tag": "ABX9TyN6DWrAUMDchFnKloML/yWm",
      "include_colab_link": true
    },
    "kernelspec": {
      "name": "python3",
      "display_name": "Python 3"
    },
    "language_info": {
      "name": "python"
    }
  },
  "cells": [
    {
      "cell_type": "markdown",
      "metadata": {
        "id": "view-in-github",
        "colab_type": "text"
      },
      "source": [
        "<a href=\"https://colab.research.google.com/github/BhatAnkush/Ml/blob/main/Na%C3%AFveBayesianClassifier.ipynb\" target=\"_parent\"><img src=\"https://colab.research.google.com/assets/colab-badge.svg\" alt=\"Open In Colab\"/></a>"
      ]
    },
    {
      "cell_type": "code",
      "execution_count": 1,
      "metadata": {
        "id": "jw9TpV7Y-Jqr"
      },
      "outputs": [],
      "source": [
        "def probAttr(data, attr, val):\n",
        "    Total = data.shape[0]\n",
        "    cnt = len(data[data[attr] == val])\n",
        "    return cnt, cnt / Total"
      ]
    },
    {
      "cell_type": "code",
      "source": [
        "def train(data, Attr, conceptVals, concept):\n",
        "    conceptProbs = {}\n",
        "    countConcept = {}\n",
        "    for cVal in conceptVals:\n",
        "        countConcept[cVal], conceptProbs[cVal] = probAttr(data, concept, cVal)\n",
        "\n",
        "    AttrConcept = {}\n",
        "    probability_list = {}\n",
        "\n",
        "    for att in Attr:\n",
        "        probability_list[att] = {}\n",
        "        AttrConcept[att] = {}\n",
        "\n",
        "        for val in Attr[att]:\n",
        "            AttrConcept[att][val] = {}\n",
        "            a,probability_list[att][val] = probAttr(data, att, val)\n",
        "\n",
        "            for cVal in conceptVals:\n",
        "                dataTemp = data[data[att]==val]\n",
        "                AttrConcept[att][val][cVal] = len(dataTemp[dataTemp[concept] == cVal]) / countConcept[cVal]\n",
        "\n",
        "    print(\"P(A) : \", conceptProbs,\"\\n\")\n",
        "    print(\"P(X/A) : \", AttrConcept,\"\\n\")\n",
        "    print(\"P(X) : \", probability_list,\"\\n\")\n",
        "\n",
        "    return conceptProbs, AttrConcept, probability_list"
      ],
      "metadata": {
        "id": "hux-Q6VW-Svd"
      },
      "execution_count": 2,
      "outputs": []
    },
    {
      "cell_type": "code",
      "source": [
        "def test(examples, Attr, concept_list, conceptProbs, AttrConcept, probability_list):\n",
        "    misclassification_count = 0\n",
        "    Total = len(examples)\n",
        "\n",
        "    for ex in examples:\n",
        "        px = {}\n",
        "        for a in Attr:\n",
        "            for x in ex:\n",
        "                for c in concept_list:\n",
        "                    if x in AttrConcept[a]:\n",
        "                        if c not in px:\n",
        "                            px[c] = conceptProbs[c] * AttrConcept[a][x][c] / probability_list[a][x]\n",
        "                        else:\n",
        "                            px[c] = px[c] * AttrConcept[a][x][c] / probability_list[a][x]\n",
        "        print(px)\n",
        "        classification = max(px, key = px.get)\n",
        "        print(\"Classification :\", classification, \"Expected :\", ex[-1])\n",
        "        if(classification != ex[-1]):\n",
        "            misclassification_count += 1\n",
        "\n",
        "    misclassification_rate = misclassification_count * 100 / Total\n",
        "    accuracy = 100 - misclassification_rate\n",
        "    print(\"Misclassification Count = {}\".format(misclassification_count))\n",
        "    print(\"Misclassification Rate = {}%\".format(misclassification_rate))\n",
        "    print(\"Accuracy = {}%\".format(accuracy))"
      ],
      "metadata": {
        "id": "DzKUHfza-x90"
      },
      "execution_count": 3,
      "outputs": []
    },
    {
      "cell_type": "code",
      "source": [
        "import pandas as pd\n",
        "\n",
        "data = pd.read_csv('PlayTennis.csv')\n",
        "#data.drop(['Unnamed: 0'], axis = 1, inplace = True)\n",
        "print(data)\n",
        "\n",
        "concept = str(list(data)[-1])\n",
        "print(concept)\n",
        "\n",
        "concept_list = set(data[concept])\n",
        "print(concept_list)\n",
        "\n",
        "Attr = {}\n",
        "for a in list(data)[:-1]:\n",
        "    Attr[a] = set(data[a])\n",
        "    print(Attr[a])\n",
        "\n",
        "conceptProbs, AttrConcept, probability_list = train(data, Attr, concept_list, concept)\n",
        "\n",
        "examples = pd.read_csv('PlayTennis.csv')\n",
        "test(examples.values, Attr, concept_list, conceptProbs, AttrConcept, probability_list)"
      ],
      "metadata": {
        "colab": {
          "base_uri": "https://localhost:8080/"
        },
        "id": "2nTu9PD5_Mmz",
        "outputId": "911803fe-0318-4bf7-b9c6-e475320ddec6"
      },
      "execution_count": 7,
      "outputs": [
        {
          "output_type": "stream",
          "name": "stdout",
          "text": [
            "     Outlook Temperature Humidity    Wind Play Tennis\n",
            "0      Sunny         Hot     High    Weak          No\n",
            "1      Sunny         Hot     High  Strong          No\n",
            "2   Overcast         Hot     High    Weak         Yes\n",
            "3       Rain        Mild     High    Weak         Yes\n",
            "4       Rain        Cool   Normal    Weak         Yes\n",
            "5       Rain        Cool   Normal  Strong          No\n",
            "6   Overcast        Cool   Normal  Strong         Yes\n",
            "7      Sunny        Mild     High    Weak          No\n",
            "8      Sunny        Cool   Normal    Weak         Yes\n",
            "9       Rain        Mild   Normal    Weak         Yes\n",
            "10     Sunny        Mild   Normal  Strong         Yes\n",
            "11  Overcast        Mild     High  Strong         Yes\n",
            "12  Overcast         Hot   Normal    Weak         Yes\n",
            "13      Rain        Mild     High  Strong          No\n",
            "Play Tennis\n",
            "{'No', 'Yes'}\n",
            "{'Rain', 'Sunny', 'Overcast'}\n",
            "{'Mild', 'Cool', 'Hot'}\n",
            "{'Normal', 'High'}\n",
            "{'Strong', 'Weak'}\n",
            "P(A) :  {'No': 0.35714285714285715, 'Yes': 0.6428571428571429} \n",
            "\n",
            "P(X/A) :  {'Outlook': {'Rain': {'No': 0.4, 'Yes': 0.3333333333333333}, 'Sunny': {'No': 0.6, 'Yes': 0.2222222222222222}, 'Overcast': {'No': 0.0, 'Yes': 0.4444444444444444}}, 'Temperature': {'Mild': {'No': 0.4, 'Yes': 0.4444444444444444}, 'Cool': {'No': 0.2, 'Yes': 0.3333333333333333}, 'Hot': {'No': 0.4, 'Yes': 0.2222222222222222}}, 'Humidity': {'Normal': {'No': 0.2, 'Yes': 0.6666666666666666}, 'High': {'No': 0.8, 'Yes': 0.3333333333333333}}, 'Wind': {'Strong': {'No': 0.6, 'Yes': 0.3333333333333333}, 'Weak': {'No': 0.4, 'Yes': 0.6666666666666666}}} \n",
            "\n",
            "P(X) :  {'Outlook': {'Rain': 0.35714285714285715, 'Sunny': 0.35714285714285715, 'Overcast': 0.2857142857142857}, 'Temperature': {'Mild': 0.42857142857142855, 'Cool': 0.2857142857142857, 'Hot': 0.2857142857142857}, 'Humidity': {'Normal': 0.5, 'High': 0.5}, 'Wind': {'Strong': 0.42857142857142855, 'Weak': 0.5714285714285714}} \n",
            "\n",
            "{'No': 0.9408000000000002, 'Yes': 0.2419753086419753}\n",
            "Classification : No Expected : No\n",
            "{'No': 1.8816000000000002, 'Yes': 0.16131687242798354}\n",
            "Classification : No Expected : No\n",
            "{'No': 0.0, 'Yes': 0.6049382716049383}\n",
            "Classification : Yes Expected : Yes\n",
            "{'No': 0.4181333333333335, 'Yes': 0.4839506172839506}\n",
            "Classification : Yes Expected : Yes\n",
            "{'No': 0.07840000000000004, 'Yes': 1.0888888888888888}\n",
            "Classification : Yes Expected : Yes\n",
            "{'No': 0.15680000000000005, 'Yes': 0.7259259259259259}\n",
            "Classification : Yes Expected : No\n",
            "{'No': 0.0, 'Yes': 1.2098765432098766}\n",
            "Classification : Yes Expected : Yes\n",
            "{'No': 0.6272000000000001, 'Yes': 0.3226337448559671}\n",
            "Classification : No Expected : No\n",
            "{'No': 0.11760000000000002, 'Yes': 0.7259259259259256}\n",
            "Classification : Yes Expected : Yes\n",
            "{'No': 0.10453333333333338, 'Yes': 0.9679012345679012}\n",
            "Classification : Yes Expected : Yes\n",
            "{'No': 0.31360000000000005, 'Yes': 0.43017832647462273}\n",
            "Classification : Yes Expected : Yes\n",
            "{'No': 0.0, 'Yes': 0.5377229080932785}\n",
            "Classification : Yes Expected : Yes\n",
            "{'No': 0.0, 'Yes': 1.2098765432098766}\n",
            "Classification : Yes Expected : Yes\n",
            "{'No': 0.8362666666666669, 'Yes': 0.3226337448559671}\n",
            "Classification : No Expected : No\n",
            "Misclassification Count = 1\n",
            "Misclassification Rate = 7.142857142857143%\n",
            "Accuracy = 92.85714285714286%\n"
          ]
        }
      ]
    },
    {
      "cell_type": "code",
      "source": [],
      "metadata": {
        "id": "iK3ssrRv_oBj"
      },
      "execution_count": null,
      "outputs": []
    }
  ]
}