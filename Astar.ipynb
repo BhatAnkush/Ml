{
  "nbformat": 4,
  "nbformat_minor": 0,
  "metadata": {
    "colab": {
      "provenance": [],
      "authorship_tag": "ABX9TyNomEaqUkanVCAP9FtRZHmL",
      "include_colab_link": true
    },
    "kernelspec": {
      "name": "python3",
      "display_name": "Python 3"
    },
    "language_info": {
      "name": "python"
    }
  },
  "cells": [
    {
      "cell_type": "markdown",
      "metadata": {
        "id": "view-in-github",
        "colab_type": "text"
      },
      "source": [
        "<a href=\"https://colab.research.google.com/github/BhatAnkush/Ml/blob/main/Astar.ipynb\" target=\"_parent\"><img src=\"https://colab.research.google.com/assets/colab-badge.svg\" alt=\"Open In Colab\"/></a>"
      ]
    },
    {
      "cell_type": "code",
      "execution_count": 13,
      "metadata": {
        "id": "wSsyLUh9umFF"
      },
      "outputs": [],
      "source": [
        "def astarAlgo(start_node, stop_node):\n",
        "  open_set = set(start_node)\n",
        "  closed_set = set()\n",
        "  g = {}\n",
        "  parents = {}\n",
        "  g[start_node] = 0\n",
        "  parents[start_node] = start_node\n",
        "  while len(open_set) > 0:\n",
        "        n = None\n",
        "        for v in open_set:\n",
        "            if n == None or g[v] + heuristic(v) < g[n] + heuristic(n):\n",
        "               n = v\n",
        "        if n == stop_node or graph_nodes[n] == None:\n",
        "          pass\n",
        "        else:\n",
        "            for (m, weight) in get_neighbours(n):\n",
        "              if m not in open_set and m not in closed_set:\n",
        "                open_set.add(m)\n",
        "                parents[m] = n\n",
        "                g[m] = g[n] + weight\n",
        "              else:\n",
        "                  if g[m] > g[n] + weight:\n",
        "                    g[m] = g[n] + weight\n",
        "                    parents[m] = n\n",
        "                    if m in closed_set:\n",
        "                       closed_set.remove(m)\n",
        "                       open_set.add(m)\n",
        "        if n == None:\n",
        "          print('Path Doesn\\'t Exist!')\n",
        "          return None\n",
        "        if n == stop_node:\n",
        "          path = []\n",
        "          while parents[n] != n:\n",
        "            path.append(n)\n",
        "            n = parents[n]\n",
        "          path.append(start_node)\n",
        "          path.reverse()\n",
        "          print('Path Found : ', format(path))\n",
        "          return path\n",
        "        open_set.remove(n)\n",
        "        closed_set.add(n)\n",
        "  print('Path Doesn\\'t Exist!')\n",
        "  return None\n"
      ]
    },
    {
      "cell_type": "code",
      "source": [
        " def get_neighbours(v):\n",
        "  if v in graph_nodes:\n",
        "    return graph_nodes[v]\n",
        "  else:\n",
        "    return None"
      ],
      "metadata": {
        "id": "gl7ApWVUv-Ue"
      },
      "execution_count": 14,
      "outputs": []
    },
    {
      "cell_type": "code",
      "source": [
        "def heuristic(n):\n",
        "  H_dist = {\n",
        "      'A' : 10,\n",
        "      'B' : 8,\n",
        "      'C' : 5,\n",
        "      'D' : 7,\n",
        "      'E' : 3,\n",
        "      'F' : 6,\n",
        "      'G' : 5,\n",
        "      'H' : 4,\n",
        "      'I' : 1,\n",
        "      'J' : 0\n",
        "   }\n",
        "  return H_dist[n]\n"
      ],
      "metadata": {
        "id": "Wgv081ZGwLDX"
      },
      "execution_count": 15,
      "outputs": []
    },
    {
      "cell_type": "code",
      "source": [
        "graph_nodes = {\n",
        "      'A' : [('B',6),('F',3)],\n",
        "      'B' : [('C',3),('D',2)],\n",
        "      'C' : [('D',1),('E',5)],\n",
        "      'D' : [('C',1),('E',8)],\n",
        "      'E' : [('I',5),('J',5)],\n",
        "      'F' : [('G',1),('H',7)],\n",
        "      'G' : [('I',3)],\n",
        "      'H' : [('I',2)],\n",
        "      'I' : [('E',5),('J',3)]\n",
        "}"
      ],
      "metadata": {
        "id": "-WlbmAwwwVD4"
      },
      "execution_count": 16,
      "outputs": []
    },
    {
      "cell_type": "code",
      "source": [
        "astarAlgo('A','J')"
      ],
      "metadata": {
        "colab": {
          "base_uri": "https://localhost:8080/"
        },
        "id": "mZku9Q0gwiIf",
        "outputId": "7991b590-62a6-4a7a-8668-f7a23179aac1"
      },
      "execution_count": 17,
      "outputs": [
        {
          "output_type": "stream",
          "name": "stdout",
          "text": [
            "Path Found :  ['A', 'F', 'G', 'I', 'J']\n"
          ]
        },
        {
          "output_type": "execute_result",
          "data": {
            "text/plain": [
              "['A', 'F', 'G', 'I', 'J']"
            ]
          },
          "metadata": {},
          "execution_count": 17
        }
      ]
    },
    {
      "cell_type": "code",
      "source": [],
      "metadata": {
        "id": "mUdPSav2wkvo"
      },
      "execution_count": null,
      "outputs": []
    }
  ]
}